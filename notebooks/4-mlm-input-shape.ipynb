{
 "cells": [
  {
   "cell_type": "markdown",
   "id": "069b5b58-ff05-4978-b0b2-375ab6561167",
   "metadata": {},
   "source": [
    "This notebook inspects the input shape for LayoutLM's masked language modeling.\n",
    "\n",
    "For this task, LayoutLM expects these inputs:\n",
    "\n",
    "1. a sequence of strings where each string is a word (or token)\n",
    "2. the corresponding bounding box for each string (i.e., 4 numbers representing the diagonal\n",
    "   coordinates). The coordinates are normalized to \\[0, 1000\\]."
   ]
  },
  {
   "cell_type": "code",
   "execution_count": 20,
   "id": "8ae1eb62-854f-423a-84f8-6c3d7eb5cfa3",
   "metadata": {},
   "outputs": [
    {
     "name": "stdout",
     "output_type": "stream",
     "text": [
      "The autoreload extension is already loaded. To reload it, use:\n",
      "  %reload_ext autoreload\n",
      "\n",
      "\u001b[1m{\u001b[0m\n",
      "    \u001b[32m'data_prefix'\u001b[0m: \u001b[1;35mPosixPath\u001b[0m\u001b[1m(\u001b[0m\u001b[32m'data'\u001b[0m\u001b[1m)\u001b[0m,\n",
      "    \u001b[32m'imgs'\u001b[0m: \u001b[1;35mPosixPath\u001b[0m\u001b[1m(\u001b[0m\u001b[32m'data/imgs-clean'\u001b[0m\u001b[1m)\u001b[0m,\n",
      "    \u001b[32m'textracted'\u001b[0m: \u001b[1;35mPosixPath\u001b[0m\u001b[1m(\u001b[0m\u001b[32m'data/textracted'\u001b[0m\u001b[1m)\u001b[0m,\n",
      "    \u001b[32m'annotations'\u001b[0m: \u001b[1;35mPosixPath\u001b[0m\u001b[1m(\u001b[0m\u001b[32m'data/annotations'\u001b[0m\u001b[1m)\u001b[0m\n",
      "\u001b[1m}\u001b[0m\n",
      "\n",
      "\u001b[1m{\u001b[0m\n",
      "    \u001b[32m'data_prefix'\u001b[0m: \u001b[1;35mS3Path\u001b[0m\u001b[1m(\u001b[0m\u001b[32m's3://sagemaker-ap-southeast-1-111122223333/textract-transformers/data'\u001b[0m\u001b[1m)\u001b[0m,\n",
      "    \u001b[32m'imgs'\u001b[0m: \u001b[1;35mPosixPath\u001b[0m\u001b[1m(\u001b[0m\u001b[32m'data/imgs-clean'\u001b[0m\u001b[1m)\u001b[0m,\n",
      "    \u001b[32m'textracted'\u001b[0m: \u001b[1;35mPosixPath\u001b[0m\u001b[1m(\u001b[0m\u001b[32m'data/textracted'\u001b[0m\u001b[1m)\u001b[0m,\n",
      "    \u001b[32m'annotations'\u001b[0m: \u001b[1;35mPosixPath\u001b[0m\u001b[1m(\u001b[0m\u001b[32m'data/annotations'\u001b[0m\u001b[1m)\u001b[0m,\n",
      "    \u001b[32m'bucket_name'\u001b[0m: \u001b[1;35mS3Path\u001b[0m\u001b[1m(\u001b[0m\u001b[32m's3://sagemaker-ap-southeast-1-111122223333'\u001b[0m\u001b[1m)\u001b[0m,\n",
      "    \u001b[32m'bucket_prefix'\u001b[0m: \u001b[32m'textract-transformers'\u001b[0m\n",
      "\u001b[1m}\u001b[0m\n"
     ]
    }
   ],
   "source": [
    "%matplotlib inline\n",
    "%load_ext autoreload\n",
    "%autoreload 3\n",
    "%config IPythonBackend.figure_format = 'retina'\n",
    "\n",
    "import os\n",
    "from dataclasses import asdict\n",
    "\n",
    "from project_config import DataPaths, S3DataPaths\n",
    "from transformers import AutoTokenizer\n",
    "\n",
    "from my_code.data import mlm\n",
    "from my_code.train import get_model\n",
    "\n",
    "try:\n",
    "    import rich\n",
    "\n",
    "    rich.reconfigure(force_terminal=True, force_jupyter=False)\n",
    "    rich.pretty.install()\n",
    "    print = rich.get_console().out\n",
    "    rprint = rich.get_console().print\n",
    "except:\n",
    "    pass\n",
    "\n",
    "def mydir(o):\n",
    "    return [s for s in dir(o) if not s.startswith('_')]\n",
    "\n",
    "datapaths_local = DataPaths()\n",
    "datapaths_s3 = S3DataPaths()\n",
    "display(asdict(datapaths_local), asdict(datapaths_s3))"
   ]
  },
  {
   "cell_type": "code",
   "execution_count": 2,
   "id": "6e78d8dc-a279-4aff-825b-e2521ff0a6a8",
   "metadata": {},
   "outputs": [
    {
     "name": "stdout",
     "output_type": "stream",
     "text": [
      "\u001b[1;35mModelArguments\u001b[0m\u001b[1m(\u001b[0m\u001b[33mcache_dir\u001b[0m=\u001b[32m'/tmp/transformers/cache'\u001b[0m, \u001b[33mconfig_name\u001b[0m=\u001b[3;35mNone\u001b[0m, \n",
      "\u001b[33mmodel_name_or_path\u001b[0m=\u001b[32m'microsoft/layoutlm-base-uncased'\u001b[0m, \u001b[33mmodel_revision\u001b[0m=\u001b[32m'main'\u001b[0m, \n",
      "\u001b[33mtokenizer_name\u001b[0m=\u001b[3;35mNone\u001b[0m, \u001b[33muse_auth_token\u001b[0m=\u001b[3;91mFalse\u001b[0m\u001b[1m)\u001b[0m\n",
      "\n",
      "\u001b[1;35mDataTrainingArguments\u001b[0m\u001b[1m(\u001b[0m\u001b[33mannotation_attr\u001b[0m=\u001b[32m'labels'\u001b[0m, \u001b[33mmax_seq_length\u001b[0m=\u001b[1;36m512\u001b[0m, \n",
      "\u001b[33mmax_train_samples\u001b[0m=\u001b[3;35mNone\u001b[0m, \u001b[33mtask_name\u001b[0m=\u001b[32m'mlm'\u001b[0m, \u001b[33mtextract\u001b[0m=\u001b[32m'/opt/ml/input/data/textract'\u001b[0m,\n",
      "\u001b[33mtextract_prefix\u001b[0m=\u001b[32m'textract-transformers/data/textracted'\u001b[0m, \n",
      "\u001b[33mtrain\u001b[0m=\u001b[32m'/opt/ml/input/data/train'\u001b[0m, \u001b[33mvalidation\u001b[0m=\u001b[32m'/opt/ml/input/data/validation'\u001b[0m, \n",
      "\u001b[33mnum_labels\u001b[0m=\u001b[1;36m2\u001b[0m, \u001b[33mmlm_probability\u001b[0m=\u001b[1;36m0\u001b[0m\u001b[1;36m.15\u001b[0m\u001b[1m)\u001b[0m\n"
     ]
    }
   ],
   "source": [
    "# Let's figure out the tokenizer to use, by looking at the mlm-pretraining job log.\n",
    "rprint(\n",
    "    \"ModelArguments(cache_dir='/tmp/transformers/cache', config_name=None, model_name_or_path='microsoft/layoutlm-base-uncased', model_revision='main', tokenizer_name=None, use_auth_token=False)\"\n",
    ")\n",
    "print()\n",
    "rprint(\n",
    "    \"DataTrainingArguments(annotation_attr='labels', max_seq_length=512, max_train_samples=None, task_name='mlm', textract='/opt/ml/input/data/textract', textract_prefix='textract-transformers/data/textracted', train='/opt/ml/input/data/train', validation='/opt/ml/input/data/validation', num_labels=2, mlm_probability=0.15)\"\n",
    ")"
   ]
  },
  {
   "cell_type": "code",
   "execution_count": 3,
   "id": "a9a3a4c2-81e0-4f7b-b16f-5fc6139bec5e",
   "metadata": {},
   "outputs": [
    {
     "name": "stderr",
     "output_type": "stream",
     "text": [
      "[WARNING|tokenization_utils_base.py:3325] 2022-01-20 02:11:17,493 >> Token indices sequence length is longer than the specified maximum sequence length for this model (924 > 512). Running this sequence through the model will result in indexing errors\n"
     ]
    }
   ],
   "source": [
    "os.environ[\"TOKENIZERS_PARALLELISM\"] = \"false\"  # For notebook only.\n",
    "\n",
    "tokenizer = AutoTokenizer.from_pretrained(\n",
    "    \"microsoft/layoutlm-base-uncased\",\n",
    "    cache_dir=datapaths_local.data_prefix / \"transformers/cache\",\n",
    "    use_fast=True,\n",
    "    revision=\"main\",\n",
    "    use_auth_token=False,\n",
    ")\n",
    "\n",
    "ds_mlm = mlm.TextractLayoutLMDatasetForLM(\n",
    "    textract_path=str(datapaths_local.textracted),\n",
    "    tokenizer=tokenizer,\n",
    ")"
   ]
  },
  {
   "cell_type": "code",
   "execution_count": 21,
   "id": "3d0fe1fe-cfcb-4f56-82d5-0401136c5991",
   "metadata": {},
   "outputs": [
    {
     "name": "stdout",
     "output_type": "stream",
     "text": [
      "\n",
      "\u001b[1m[\u001b[0m\n",
      "    \u001b[32m'dataset_inputs'\u001b[0m,\n",
      "    \u001b[32m'example_index'\u001b[0m,\n",
      "    \u001b[32m'functions'\u001b[0m,\n",
      "    \u001b[32m'manifest_file_path'\u001b[0m,\n",
      "    \u001b[32m'max_content_seq_len'\u001b[0m,\n",
      "    \u001b[32m'max_seq_len'\u001b[0m,\n",
      "    \u001b[32m'parse_textract_file'\u001b[0m,\n",
      "    \u001b[32m'register_datapipe_as_function'\u001b[0m,\n",
      "    \u001b[32m'register_function'\u001b[0m,\n",
      "    \u001b[32m'splitter'\u001b[0m,\n",
      "    \u001b[32m'textract_path'\u001b[0m,\n",
      "    \u001b[32m'textract_prefix'\u001b[0m,\n",
      "    \u001b[32m'textract_s3uri_to_file_path'\u001b[0m,\n",
      "    \u001b[32m'tokenizer'\u001b[0m\n",
      "\u001b[1m]\u001b[0m\n"
     ]
    }
   ],
   "source": [
    "mydir(ds_mlm)"
   ]
  },
  {
   "cell_type": "code",
   "execution_count": 13,
   "id": "8b1d11fd-cb8c-4dde-a0d0-80aaead36065",
   "metadata": {},
   "outputs": [
    {
     "name": "stdout",
     "output_type": "stream",
     "text": [
      "\u001b[32m'data/textracted/'\u001b[0m\n",
      "\u001b[32m'\u001b[0m\u001b[32m<\u001b[0m\u001b[32mNONE\u001b[0m\u001b[32m>\u001b[0m\u001b[32m'\u001b[0m\n",
      "\u001b[32m''\u001b[0m\n",
      "\u001b[1;36m2544\u001b[0m\n"
     ]
    }
   ],
   "source": [
    "display(\n",
    "    ds_mlm.textract_path,\n",
    "    \"<NONE>\" if ds_mlm.manifest_file_path is None else ds_mlm.manifest_file_path,\n",
    "    ds_mlm.textract_prefix,\n",
    "    len(ds_mlm.example_index),\n",
    ")"
   ]
  },
  {
   "cell_type": "code",
   "execution_count": 15,
   "id": "1101732f-3006-4eb6-86ea-e9ba17a207ed",
   "metadata": {},
   "outputs": [
    {
     "name": "stdout",
     "output_type": "stream",
     "text": [
      "\u001b[1;35mTextractLayoutLMExampleForLM\u001b[0m\u001b[1m(\u001b[0m\u001b[33mword_boxes_normalized\u001b[0m=\u001b[1;35marray\u001b[0m\u001b[1m(\u001b[0m\u001b[1m[\u001b[0m\u001b[1m[\u001b[0m\u001b[1;36m568.13204288\u001b[0m,  \u001b[1;36m49.72891137\u001b[0m, \u001b[1;36m701.71193779\u001b[0m,  \u001b[1;36m63.92122339\u001b[0m\u001b[1m]\u001b[0m,\n",
      "       \u001b[1m[\u001b[0m\u001b[1;36m544.09110546\u001b[0m,  \u001b[1;36m69.7896257\u001b[0m , \u001b[1;36m630.71605563\u001b[0m,  \u001b[1;36m84.08804704\u001b[0m\u001b[1m]\u001b[0m,\n",
      "       \u001b[1m[\u001b[0m\u001b[1;36m635.99562645\u001b[0m,  \u001b[1;36m70.1417774\u001b[0m , \u001b[1;36m700.49893856\u001b[0m,  \u001b[1;36m84.08466354\u001b[0m\u001b[1m]\u001b[0m,\n",
      "       \u001b[33m...\u001b[0m,\n",
      "       \u001b[1m[\u001b[0m\u001b[1;36m604.19762135\u001b[0m, \u001b[1;36m617.5339222\u001b[0m , \u001b[1;36m613.47612366\u001b[0m, \u001b[1;36m625.69778133\u001b[0m\u001b[1m]\u001b[0m,\n",
      "       \u001b[1m[\u001b[0m\u001b[1;36m617.8407073\u001b[0m , \u001b[1;36m615.1227355\u001b[0m , \u001b[1;36m679.96006832\u001b[0m, \u001b[1;36m625.22857077\u001b[0m\u001b[1m]\u001b[0m,\n",
      "       \u001b[1m[\u001b[0m\u001b[1;36m685.43183804\u001b[0m, \u001b[1;36m615.04977942\u001b[0m, \u001b[1;36m759.9587664\u001b[0m , \u001b[1;36m625.48963912\u001b[0m\u001b[1m]\u001b[0m\u001b[1m]\u001b[0m\u001b[1m)\u001b[0m, \u001b[33mword_texts\u001b[0m=\u001b[1m[\u001b[0m\u001b[32m'CONSUMER'\u001b[0m, \u001b[32m'CREDIT'\u001b[0m, \u001b[32m'CARD'\u001b[0m, \u001b[32m'AGREEMENT'\u001b[0m, \u001b[32m'VISA'\u001b[0m, \u001b[32m'AND'\u001b[0m, \u001b[32m'DISCLOSURE'\u001b[0m, \u001b[32m'VISA'\u001b[0m, \u001b[32m'PLATINUM/VISA'\u001b[0m, \u001b[32m'PLATINUM'\u001b[0m, \u001b[32m'REWARDS/VISA'\u001b[0m, \u001b[32m'PLATINUM'\u001b[0m, \u001b[32m'SECURED'\u001b[0m, \u001b[32m'This'\u001b[0m, \u001b[32m'Consumer'\u001b[0m, \u001b[32m'Credit'\u001b[0m, \u001b[32m'Card'\u001b[0m, \u001b[32m'Agreement'\u001b[0m, \u001b[32m'and'\u001b[0m, \u001b[32m'Disclosure'\u001b[0m, \u001b[32m'together'\u001b[0m, \u001b[32m'with'\u001b[0m, \u001b[32m'the'\u001b[0m, \u001b[32m'Account'\u001b[0m, \u001b[32m'Opening'\u001b[0m, \u001b[32m'Disclosure'\u001b[0m, \u001b[32m'and'\u001b[0m, \u001b[32m'any'\u001b[0m, \u001b[32m'other'\u001b[0m, \u001b[32m'Account'\u001b[0m, \u001b[32m'opening'\u001b[0m, \u001b[32m'documents'\u001b[0m, \u001b[32m'or'\u001b[0m, \u001b[32m'any'\u001b[0m, \u001b[32m'subsequent'\u001b[0m, \u001b[32m'documents'\u001b[0m, \u001b[32m'provided'\u001b[0m, \u001b[32m'to'\u001b[0m, \u001b[32m'You'\u001b[0m, \u001b[32m'related'\u001b[0m, \u001b[32m'to'\u001b[0m, \u001b[32m'this'\u001b[0m, \u001b[32m'Account'\u001b[0m, \u001b[32m'\u001b[0m\u001b[32m(\u001b[0m\u001b[32mhereinafter'\u001b[0m, \u001b[32m'collectively'\u001b[0m, \u001b[32m'referred'\u001b[0m, \u001b[32m'to'\u001b[0m, \u001b[32m'as'\u001b[0m, \u001b[32m'\"Agreement\"\u001b[0m\u001b[32m)\u001b[0m\u001b[32m'\u001b[0m, \u001b[32m'govern'\u001b[0m, \u001b[32m'the'\u001b[0m, \u001b[32m'terms'\u001b[0m, \u001b[32m'and'\u001b[0m, \u001b[32m'conditions'\u001b[0m, \u001b[32m'of'\u001b[0m, \u001b[32m'this'\u001b[0m, \u001b[32m'Account.'\u001b[0m, \u001b[32m'\"We,\"'\u001b[0m, \u001b[32m'\"Us,\"'\u001b[0m, \u001b[32m'\"Our\"'\u001b[0m, \u001b[32m'and'\u001b[0m, \u001b[32m'\"Ours\"'\u001b[0m, \u001b[32m'and'\u001b[0m, \u001b[32m'\"Credit'\u001b[0m, \u001b[32m'Union\"'\u001b[0m, \u001b[32m'refers'\u001b[0m, \u001b[32m'to'\u001b[0m, \u001b[32m'American'\u001b[0m, \u001b[32m'Airlines'\u001b[0m, \u001b[32m'Federal'\u001b[0m, \u001b[32m'Credit'\u001b[0m, \u001b[32m'Union'\u001b[0m, \u001b[32m'with'\u001b[0m, \u001b[32m'which'\u001b[0m, \u001b[32m'this'\u001b[0m, \u001b[32m'Agreement'\u001b[0m, \u001b[32m'is'\u001b[0m, \u001b[32m'made.'\u001b[0m, \u001b[32m'\"You,\"'\u001b[0m, \u001b[32m'\"Your,\"'\u001b[0m, \u001b[32m'and'\u001b[0m, \u001b[32m'\"Yours\"'\u001b[0m, \u001b[32m'refers'\u001b[0m, \u001b[32m'to'\u001b[0m, \u001b[32m'each'\u001b[0m, \u001b[32m'applicant'\u001b[0m, \u001b[32m'and'\u001b[0m, \u001b[32m'co-applicant'\u001b[0m, \u001b[32m'for'\u001b[0m, \u001b[32m'the'\u001b[0m, \u001b[32m'Account;'\u001b[0m, \u001b[32m'any'\u001b[0m, \u001b[32m'person'\u001b[0m, \u001b[32m'responsible'\u001b[0m, \u001b[32m'for'\u001b[0m, \u001b[32m'paying'\u001b[0m, \u001b[32m'the'\u001b[0m, \u001b[32m'Account;'\u001b[0m, \u001b[32m'and'\u001b[0m, \u001b[32m'anyone'\u001b[0m, \u001b[32m'You'\u001b[0m, \u001b[32m'authorize'\u001b[0m, \u001b[32m'to'\u001b[0m, \u001b[32m'use,'\u001b[0m, \u001b[32m'access'\u001b[0m, \u001b[32m'or'\u001b[0m, \u001b[32m'service'\u001b[0m, \u001b[32m'the'\u001b[0m, \u001b[32m'Account.'\u001b[0m, \u001b[32m'\"Card\"'\u001b[0m, \u001b[32m'means'\u001b[0m, \u001b[32m'the'\u001b[0m, \u001b[32m'Visa®'\u001b[0m, \u001b[32m'credit'\u001b[0m, \u001b[32m'card'\u001b[0m, \u001b[32m'and'\u001b[0m, \u001b[32m'any'\u001b[0m, \u001b[32m'other'\u001b[0m, \u001b[32m'access'\u001b[0m, \u001b[32m'devices,'\u001b[0m, \u001b[32m'duplicates,'\u001b[0m, \u001b[32m'renewals,'\u001b[0m, \u001b[32m'or'\u001b[0m, \u001b[32m'substitutions,'\u001b[0m, \u001b[32m'including'\u001b[0m, \u001b[32m'convenience'\u001b[0m, \u001b[32m'checks,'\u001b[0m, \u001b[32m'the'\u001b[0m, \u001b[32m'Credit'\u001b[0m, \u001b[32m'Union'\u001b[0m, \u001b[32m'issues'\u001b[0m, \u001b[32m'to'\u001b[0m, \u001b[32m'You.'\u001b[0m, \u001b[32m'\"Account\"'\u001b[0m, \u001b[32m'means'\u001b[0m, \u001b[32m'the'\u001b[0m, \u001b[32m'line'\u001b[0m, \u001b[32m'of'\u001b[0m, \u001b[32m'credit'\u001b[0m, \u001b[32m'established'\u001b[0m, \u001b[32m'by'\u001b[0m, \u001b[32m'this'\u001b[0m, \u001b[32m'Agreement'\u001b[0m, \u001b[32m'and'\u001b[0m, \u001b[32m'includes'\u001b[0m, \u001b[32m'Your'\u001b[0m, \u001b[32m'Card.'\u001b[0m, \u001b[32m'SECURITY'\u001b[0m, \u001b[32m'INTEREST'\u001b[0m, \u001b[32m'You'\u001b[0m, \u001b[32m'grant'\u001b[0m, \u001b[32m'the'\u001b[0m, \u001b[32m'Credit'\u001b[0m, \u001b[32m'Union'\u001b[0m, \u001b[32m'a'\u001b[0m, \u001b[32m'security'\u001b[0m, \u001b[32m'interest'\u001b[0m, \u001b[32m'under'\u001b[0m, \u001b[32m'the'\u001b[0m, \u001b[32m'Uniform'\u001b[0m, \u001b[32m'Commercial'\u001b[0m, \u001b[32m'Code'\u001b[0m, \u001b[32m'and'\u001b[0m, \u001b[32m'under'\u001b[0m, \u001b[32m'any'\u001b[0m, \u001b[32m'common'\u001b[0m, \u001b[32m'law'\u001b[0m, \u001b[32m'rights'\u001b[0m, \u001b[32m'the'\u001b[0m, \u001b[32m'Credit'\u001b[0m, \u001b[32m'Union'\u001b[0m, \u001b[32m'may'\u001b[0m, \u001b[32m'have'\u001b[0m, \u001b[32m'in'\u001b[0m, \u001b[32m'any'\u001b[0m, \u001b[32m'goods'\u001b[0m, \u001b[32m'You'\u001b[0m, \u001b[32m'purchase.'\u001b[0m, \u001b[32m'If'\u001b[0m, \u001b[32m'You'\u001b[0m, \u001b[32m'give'\u001b[0m, \u001b[32m'the'\u001b[0m, \u001b[32m'Credit'\u001b[0m, \u001b[32m'Union'\u001b[0m, \u001b[32m'a'\u001b[0m, \u001b[32m'specific'\u001b[0m, \u001b[32m'pledge'\u001b[0m, \u001b[32m'of'\u001b[0m, \u001b[32m'shares'\u001b[0m, \u001b[32m'by'\u001b[0m, \u001b[32m'signing'\u001b[0m, \u001b[32m'a'\u001b[0m, \u001b[32m'separate'\u001b[0m, \u001b[32m'pledge'\u001b[0m, \u001b[32m'of'\u001b[0m, \u001b[32m'shares,'\u001b[0m, \u001b[32m'Your'\u001b[0m, \u001b[32m'pledged'\u001b[0m, \u001b[32m'shares'\u001b[0m, \u001b[32m'will'\u001b[0m, \u001b[32m'secure'\u001b[0m, \u001b[32m'Your'\u001b[0m, \u001b[32m'Account.'\u001b[0m, \u001b[32m'You'\u001b[0m, \u001b[32m'may'\u001b[0m, \u001b[32m'not'\u001b[0m, \u001b[32m'withdraw'\u001b[0m, \u001b[32m'amounts'\u001b[0m, \u001b[32m'that'\u001b[0m, \u001b[32m'have'\u001b[0m, \u001b[32m'been'\u001b[0m, \u001b[32m'specifically'\u001b[0m, \u001b[32m'pledged'\u001b[0m, \u001b[32m'to'\u001b[0m, \u001b[32m'secure'\u001b[0m, \u001b[32m'Your'\u001b[0m, \u001b[32m'Account'\u001b[0m, \u001b[32m'until'\u001b[0m, \u001b[32m'the'\u001b[0m, \u001b[32m'Credit'\u001b[0m, \u001b[32m'Union'\u001b[0m, \u001b[32m'agrees'\u001b[0m, \u001b[32m'to'\u001b[0m, \u001b[32m'release'\u001b[0m, \u001b[32m'all'\u001b[0m, \u001b[32m'or'\u001b[0m, \u001b[32m'part'\u001b[0m, \u001b[32m'of'\u001b[0m, \u001b[32m'the'\u001b[0m, \u001b[32m'pledged'\u001b[0m, \u001b[32m'amount.'\u001b[0m, \u001b[32m'You'\u001b[0m, \u001b[32m'grant'\u001b[0m, \u001b[32m'Us'\u001b[0m, \u001b[32m'a'\u001b[0m, \u001b[32m'security'\u001b[0m, \u001b[32m'interest'\u001b[0m, \u001b[32m'in'\u001b[0m, \u001b[32m'all'\u001b[0m, \u001b[32m'individual'\u001b[0m, \u001b[32m'and'\u001b[0m, \u001b[32m'joint'\u001b[0m, \u001b[32m'share'\u001b[0m, \u001b[32m'and/or'\u001b[0m, \u001b[32m'deposit'\u001b[0m, \u001b[32m'accounts'\u001b[0m, \u001b[32m'You'\u001b[0m, \u001b[32m'have'\u001b[0m, \u001b[32m'with'\u001b[0m, \u001b[32m'Us'\u001b[0m, \u001b[32m'now'\u001b[0m, \u001b[32m'and'\u001b[0m, \u001b[32m'in'\u001b[0m, \u001b[32m'the'\u001b[0m, \u001b[32m'future'\u001b[0m, \u001b[32m'to'\u001b[0m, \u001b[32m'secure'\u001b[0m, \u001b[32m'Your'\u001b[0m, \u001b[32m'credit'\u001b[0m, \u001b[32m'card'\u001b[0m, \u001b[32m'Account.'\u001b[0m, \u001b[32m'Shares'\u001b[0m, \u001b[32m'and'\u001b[0m, \u001b[32m'deposits'\u001b[0m, \u001b[32m'in'\u001b[0m, \u001b[32m'an'\u001b[0m, \u001b[32m'IRA'\u001b[0m, \u001b[32m'or'\u001b[0m, \u001b[32m'any'\u001b[0m, \u001b[32m'other'\u001b[0m, \u001b[32m'account'\u001b[0m, \u001b[32m'that'\u001b[0m, \u001b[32m'would'\u001b[0m, \u001b[32m'lose'\u001b[0m, \u001b[32m'special'\u001b[0m, \u001b[32m'tax'\u001b[0m, \u001b[32m'treatment'\u001b[0m, \u001b[32m'under'\u001b[0m, \u001b[32m'state'\u001b[0m, \u001b[32m'or'\u001b[0m, \u001b[32m'federal'\u001b[0m, \u001b[32m'law'\u001b[0m, \u001b[32m'if'\u001b[0m, \u001b[32m'given'\u001b[0m, \u001b[32m'as'\u001b[0m, \u001b[32m'security'\u001b[0m, \u001b[32m'are'\u001b[0m, \u001b[32m'not'\u001b[0m, \u001b[32m'subject'\u001b[0m, \u001b[32m'to'\u001b[0m, \u001b[32m'the'\u001b[0m, \u001b[32m'security'\u001b[0m, \u001b[32m'interest'\u001b[0m, \u001b[32m'You'\u001b[0m, \u001b[32m'have'\u001b[0m, \u001b[32m'given'\u001b[0m, \u001b[32m'in'\u001b[0m, \u001b[32m'Your'\u001b[0m, \u001b[32m'shares'\u001b[0m, \u001b[32m'and'\u001b[0m, \u001b[32m'deposits.'\u001b[0m, \u001b[32m'You'\u001b[0m, \u001b[32m'may'\u001b[0m, \u001b[32m'withdraw'\u001b[0m, \u001b[32m'these'\u001b[0m, \u001b[32m'other'\u001b[0m, \u001b[32m'shares'\u001b[0m, \u001b[32m'unless'\u001b[0m, \u001b[32m'You'\u001b[0m, \u001b[32m'are'\u001b[0m, \u001b[32m'in'\u001b[0m, \u001b[32m'default.'\u001b[0m, \u001b[32m'When'\u001b[0m, \u001b[32m'You'\u001b[0m, \u001b[32m'are'\u001b[0m, \u001b[32m'in'\u001b[0m, \u001b[32m'default,'\u001b[0m, \u001b[32m'You'\u001b[0m, \u001b[32m'authorize'\u001b[0m, \u001b[32m'Us'\u001b[0m, \u001b[32m'to'\u001b[0m, \u001b[32m'apply'\u001b[0m, \u001b[32m'the'\u001b[0m, \u001b[32m'balance'\u001b[0m, \u001b[32m'in'\u001b[0m, \u001b[32m'these'\u001b[0m, \u001b[32m'accounts'\u001b[0m, \u001b[32m'to'\u001b[0m, \u001b[32m'any'\u001b[0m, \u001b[32m'amounts'\u001b[0m, \u001b[32m'due.'\u001b[0m, \u001b[32m'For'\u001b[0m, \u001b[32m'example,'\u001b[0m, \u001b[32m'if'\u001b[0m, \u001b[32m'You'\u001b[0m, \u001b[32m'have'\u001b[0m, \u001b[32m'an'\u001b[0m, \u001b[32m'unpaid'\u001b[0m, \u001b[32m'credit'\u001b[0m, \u001b[32m'card'\u001b[0m, \u001b[32m'balance,'\u001b[0m, \u001b[32m'You'\u001b[0m, \u001b[32m'agree'\u001b[0m, \u001b[32m'We'\u001b[0m, \u001b[32m'may'\u001b[0m, \u001b[32m'use'\u001b[0m, \u001b[32m'funds'\u001b[0m, \u001b[32m'in'\u001b[0m, \u001b[32m'Your'\u001b[0m, \u001b[32m'account\u001b[0m\u001b[32m(\u001b[0m\u001b[32ms\u001b[0m\u001b[32m)\u001b[0m\u001b[32m'\u001b[0m, \u001b[32m'to'\u001b[0m, \u001b[32m'pay'\u001b[0m, \u001b[32m'any'\u001b[0m, \u001b[32m'or'\u001b[0m, \u001b[32m'all'\u001b[0m, \u001b[32m'of'\u001b[0m, \u001b[32m'the'\u001b[0m, \u001b[32m'unpaid'\u001b[0m, \u001b[32m'balance.'\u001b[0m, \u001b[32m'You'\u001b[0m, \u001b[32m'acknowledge'\u001b[0m, \u001b[32m'and'\u001b[0m, \u001b[32m'agree'\u001b[0m, \u001b[32m'that'\u001b[0m, \u001b[32m'Your'\u001b[0m, \u001b[32m'pledge'\u001b[0m, \u001b[32m'does'\u001b[0m, \u001b[32m'not'\u001b[0m, \u001b[32m'apply'\u001b[0m, \u001b[32m'during'\u001b[0m, \u001b[32m'any'\u001b[0m, \u001b[32m'periods'\u001b[0m, \u001b[32m'when'\u001b[0m, \u001b[32m'You'\u001b[0m, \u001b[32m'are'\u001b[0m, \u001b[32m'a'\u001b[0m, \u001b[32m'covered'\u001b[0m, \u001b[32m'borrower'\u001b[0m, \u001b[32m'under'\u001b[0m, \u001b[32m'the'\u001b[0m, \u001b[32m'Military'\u001b[0m, \u001b[32m'Lending'\u001b[0m, \u001b[32m'Act.'\u001b[0m, \u001b[32m'For'\u001b[0m, \u001b[32m'clarity,'\u001b[0m, \u001b[32m'You'\u001b[0m, \u001b[32m'will'\u001b[0m, \u001b[32m'not'\u001b[0m, \u001b[32m'be'\u001b[0m, \u001b[32m'deemed'\u001b[0m, \u001b[32m'a'\u001b[0m, \u001b[32m'covered'\u001b[0m, \u001b[32m'borrower,'\u001b[0m, \u001b[32m'and'\u001b[0m, \u001b[32m'Your'\u001b[0m, \u001b[32m'pledge'\u001b[0m, \u001b[32m'will'\u001b[0m, \u001b[32m'apply,'\u001b[0m, \u001b[32m'if:'\u001b[0m, \u001b[32m'\u001b[0m\u001b[32m(\u001b[0m\u001b[32mi\u001b[0m\u001b[32m)\u001b[0m\u001b[32m'\u001b[0m, \u001b[32m'You'\u001b[0m, \u001b[32m'established'\u001b[0m, \u001b[32m'Your'\u001b[0m, \u001b[32m'credit'\u001b[0m, \u001b[32m'card'\u001b[0m, \u001b[32m'Account'\u001b[0m, \u001b[32m'when'\u001b[0m, \u001b[32m'You'\u001b[0m, \u001b[32m'were'\u001b[0m, \u001b[32m'not'\u001b[0m, \u001b[32m'a'\u001b[0m, \u001b[32m'covered'\u001b[0m, \u001b[32m'borrower;'\u001b[0m, \u001b[32m'or'\u001b[0m, \u001b[32m'\u001b[0m\u001b[32m(\u001b[0m\u001b[32mii\u001b[0m\u001b[32m)\u001b[0m\u001b[32m'\u001b[0m, \u001b[32m'You'\u001b[0m, \u001b[32m'cease'\u001b[0m, \u001b[32m'to'\u001b[0m, \u001b[32m'be'\u001b[0m, \u001b[32m'a'\u001b[0m, \u001b[32m'covered'\u001b[0m, \u001b[32m'borrower.'\u001b[0m\u001b[1m]\u001b[0m\u001b[1m)\u001b[0m\n"
     ]
    }
   ],
   "source": [
    "first_doc = ds_mlm.example_index[0]\n",
    "print(first_doc)"
   ]
  },
  {
   "cell_type": "code",
   "execution_count": 30,
   "id": "1b89aa96-ddfa-45a3-8178-3b903910683f",
   "metadata": {},
   "outputs": [
    {
     "name": "stdout",
     "output_type": "stream",
     "text": [
      "Amazing, it worked 😂\n"
     ]
    }
   ],
   "source": [
    "# Based on GITROOT/notebooks/src/my_code/data/mlm.py::TextractLayoutLMDatasetForLM.__init__()\n",
    "self = ds_mlm  # Alias, to minimize changes to the copy-pasted code :P\n",
    "\n",
    "from my_code.data.geometry import layoutlm_boxes_from_trp_blocks\n",
    "from my_code.data.mlm import TextractLayoutLMExampleForLM\n",
    "\n",
    "record = next(self.dataset_inputs())\n",
    "textract_file_path = record[\"textract-ref\"]\n",
    "page_num = record.get(\"page-num\")\n",
    "doc = self.parse_textract_file(textract_file_path)\n",
    "for page in doc.pages[\n",
    "    # Filter to target page if provided, else process all pages:\n",
    "    slice(None)\n",
    "    if page_num is None\n",
    "    else slice(page_num - 1, page_num)\n",
    "]:\n",
    "    words = [word for line in page.lines for word in line.words]\n",
    "    word_boxes = layoutlm_boxes_from_trp_blocks(words)\n",
    "    word_texts = [word.text for word in words]\n",
    "    for start_word, end_word in self.splitter.split(\n",
    "        word_texts,\n",
    "        tokenizer,\n",
    "        self.max_content_seq_len,\n",
    "    ):\n",
    "        self.example_index.append(\n",
    "            TextractLayoutLMExampleForLM(\n",
    "                word_boxes_normalized=word_boxes[start_word:end_word, :],\n",
    "                word_texts=word_texts[start_word:end_word],\n",
    "            )\n",
    "        )\n",
    "\n",
    "del self\n",
    "rprint(\"Amazing, it worked :joy:\")"
   ]
  },
  {
   "cell_type": "code",
   "execution_count": 51,
   "id": "461d7b1d-fe9c-44ab-89d4-0296bbd427de",
   "metadata": {},
   "outputs": [
    {
     "name": "stdout",
     "output_type": "stream",
     "text": [
      "Let's start inspecting the temporary variables 👀\n",
      "\u001b[1m[\u001b[0m\u001b[32m'Your'\u001b[0m, \u001b[32m'Billing'\u001b[0m, \u001b[32m'Rights:'\u001b[0m, \u001b[32m'Keep'\u001b[0m, \u001b[32m'this'\u001b[0m, \u001b[32m'Document'\u001b[0m, \u001b[32m'for'\u001b[0m, \u001b[32m'Future'\u001b[0m, \u001b[32m'Use'\u001b[0m, \u001b[32m'This'\u001b[0m, \u001b[32m'notice'\u001b[0m, \u001b[32m'tells'\u001b[0m, \u001b[32m'You'\u001b[0m, \u001b[32m'about'\u001b[0m, \u001b[32m'Your'\u001b[0m, \u001b[32m'rights'\u001b[0m, \u001b[32m'and'\u001b[0m, \u001b[32m'Our'\u001b[0m, \u001b[32m'responsibilities'\u001b[0m, \u001b[32m'under'\u001b[0m, \u001b[32m'the'\u001b[0m, \u001b[32m'Fair'\u001b[0m, \u001b[32m'Credit'\u001b[0m, \u001b[32m'Billing'\u001b[0m, \u001b[32m'Act.'\u001b[0m, \u001b[32m'What'\u001b[0m, \u001b[32m'To'\u001b[0m, \u001b[32m'Do'\u001b[0m, \u001b[32m'If'\u001b[0m, \u001b[32m'You'\u001b[0m, \u001b[32m'Find'\u001b[0m, \u001b[32m'A'\u001b[0m, \u001b[32m'Mistake'\u001b[0m, \u001b[32m'On'\u001b[0m, \u001b[32m'Your'\u001b[0m, \u001b[32m'Statement'\u001b[0m, \u001b[32m'If'\u001b[0m, \u001b[32m'You'\u001b[0m, \u001b[32m'think'\u001b[0m, \u001b[32m'there'\u001b[0m, \u001b[32m'is'\u001b[0m, \u001b[32m'an'\u001b[0m, \u001b[32m'error'\u001b[0m, \u001b[32m'on'\u001b[0m, \u001b[32m'Your'\u001b[0m, \u001b[32m'statement,'\u001b[0m, \u001b[32m'write'\u001b[0m, \u001b[32m'to'\u001b[0m, \u001b[32m'Us'\u001b[0m, \u001b[32m'at'\u001b[0m, \u001b[32m'the'\u001b[0m, \u001b[32m'address'\u001b[0m, \u001b[32m'listed'\u001b[0m, \u001b[32m'on'\u001b[0m, \u001b[32m'Your'\u001b[0m, \u001b[32m'statement.'\u001b[0m, \u001b[32m'In'\u001b[0m, \u001b[32m'Your'\u001b[0m, \u001b[32m'letter,'\u001b[0m, \u001b[32m'give'\u001b[0m, \u001b[32m'Us'\u001b[0m, \u001b[32m'the'\u001b[0m, \u001b[32m'following'\u001b[0m, \u001b[32m'information:'\u001b[0m, \u001b[32m'-'\u001b[0m, \u001b[32m'Account'\u001b[0m, \u001b[32m'information:'\u001b[0m, \u001b[32m'Your'\u001b[0m, \u001b[32m'name'\u001b[0m, \u001b[32m'and'\u001b[0m, \u001b[32m'Account'\u001b[0m, \u001b[32m'number.'\u001b[0m, \u001b[32m'-'\u001b[0m, \u001b[32m'Dollar'\u001b[0m, \u001b[32m'amount:'\u001b[0m, \u001b[32m'The'\u001b[0m, \u001b[32m'dollar'\u001b[0m, \u001b[32m'amount'\u001b[0m, \u001b[32m'of'\u001b[0m, \u001b[32m'the'\u001b[0m, \u001b[32m'suspected'\u001b[0m, \u001b[32m'error.'\u001b[0m, \u001b[32m'-'\u001b[0m, \u001b[32m'Description'\u001b[0m, \u001b[32m'of'\u001b[0m, \u001b[32m'problem:'\u001b[0m, \u001b[32m'If'\u001b[0m, \u001b[32m'You'\u001b[0m, \u001b[32m'think'\u001b[0m, \u001b[32m'there'\u001b[0m, \u001b[32m'is'\u001b[0m, \u001b[32m'an'\u001b[0m, \u001b[32m'error'\u001b[0m, \u001b[32m'on'\u001b[0m, \u001b[32m'Your'\u001b[0m, \u001b[32m'bill,'\u001b[0m, \u001b[32m'describe'\u001b[0m, \u001b[32m'what'\u001b[0m, \u001b[32m'You'\u001b[0m, \u001b[32m'believe'\u001b[0m, \u001b[32m'is'\u001b[0m, \u001b[32m'wrong'\u001b[0m, \u001b[32m'and'\u001b[0m, \u001b[32m'why'\u001b[0m, \u001b[32m'You'\u001b[0m, \u001b[32m'believe'\u001b[0m, \u001b[32m'it'\u001b[0m, \u001b[32m'is'\u001b[0m, \u001b[32m'a'\u001b[0m, \u001b[32m'mistake.'\u001b[0m, \u001b[32m'You'\u001b[0m, \u001b[32m'must'\u001b[0m, \u001b[32m'contact'\u001b[0m, \u001b[32m'Us:'\u001b[0m, \u001b[32m'-'\u001b[0m, \u001b[32m'Within'\u001b[0m, \u001b[32m'60'\u001b[0m, \u001b[32m'days'\u001b[0m, \u001b[32m'after'\u001b[0m, \u001b[32m'the'\u001b[0m, \u001b[32m'error'\u001b[0m, \u001b[32m'appeared'\u001b[0m, \u001b[32m'on'\u001b[0m, \u001b[32m'Your'\u001b[0m, \u001b[32m'statement.'\u001b[0m, \u001b[32m'-'\u001b[0m, \u001b[32m'At'\u001b[0m, \u001b[32m'least'\u001b[0m, \u001b[32m'three'\u001b[0m, \u001b[32m'business'\u001b[0m, \u001b[32m'days'\u001b[0m, \u001b[32m'before'\u001b[0m, \u001b[32m'an'\u001b[0m, \u001b[32m'automated'\u001b[0m, \u001b[32m'payment'\u001b[0m, \u001b[32m'is'\u001b[0m, \u001b[32m'scheduled,'\u001b[0m, \u001b[32m'if'\u001b[0m, \u001b[32m'You'\u001b[0m, \u001b[32m'want'\u001b[0m, \u001b[32m'to'\u001b[0m, \u001b[32m'stop'\u001b[0m, \u001b[32m'payment'\u001b[0m, \u001b[32m'on'\u001b[0m, \u001b[32m'the'\u001b[0m, \u001b[32m'amount'\u001b[0m, \u001b[32m'You'\u001b[0m, \u001b[32m'think'\u001b[0m, \u001b[32m'is'\u001b[0m, \u001b[32m'wrong.'\u001b[0m, \u001b[32m'You'\u001b[0m, \u001b[32m'must'\u001b[0m, \u001b[32m'notify'\u001b[0m, \u001b[32m'Us'\u001b[0m, \u001b[32m'of'\u001b[0m, \u001b[32m'any'\u001b[0m, \u001b[32m'potential'\u001b[0m, \u001b[32m'errors'\u001b[0m, \u001b[32m'in'\u001b[0m, \u001b[32m'writing'\u001b[0m, \u001b[32m'or'\u001b[0m, \u001b[32m'electronically.'\u001b[0m, \u001b[32m'You'\u001b[0m, \u001b[32m'may'\u001b[0m, \u001b[32m'call'\u001b[0m, \u001b[32m'Us,'\u001b[0m, \u001b[32m'but'\u001b[0m, \u001b[32m'if'\u001b[0m, \u001b[32m'You'\u001b[0m, \u001b[32m'do'\u001b[0m, \u001b[32m'We'\u001b[0m, \u001b[32m'are'\u001b[0m, \u001b[32m'not'\u001b[0m, \u001b[32m'required'\u001b[0m, \u001b[32m'to'\u001b[0m, \u001b[32m'investigate'\u001b[0m, \u001b[32m'any'\u001b[0m, \u001b[32m'potential'\u001b[0m, \u001b[32m'errors'\u001b[0m, \u001b[32m'and'\u001b[0m, \u001b[32m'You'\u001b[0m, \u001b[32m'may'\u001b[0m, \u001b[32m'have'\u001b[0m, \u001b[32m'to'\u001b[0m, \u001b[32m'pay'\u001b[0m, \u001b[32m'the'\u001b[0m, \u001b[32m'amount'\u001b[0m, \u001b[32m'in'\u001b[0m, \u001b[32m'question.'\u001b[0m, \u001b[32m'What'\u001b[0m, \u001b[32m'Will'\u001b[0m, \u001b[32m'Happen'\u001b[0m, \u001b[32m'After'\u001b[0m, \u001b[32m'We'\u001b[0m, \u001b[32m'Receive'\u001b[0m, \u001b[32m'Your'\u001b[0m, \u001b[32m'Letter'\u001b[0m, \u001b[32m'When'\u001b[0m, \u001b[32m'We'\u001b[0m, \u001b[32m'receive'\u001b[0m, \u001b[32m'Your'\u001b[0m, \u001b[32m'letter,'\u001b[0m, \u001b[32m'We'\u001b[0m, \u001b[32m'must'\u001b[0m, \u001b[32m'do'\u001b[0m, \u001b[32m'two'\u001b[0m, \u001b[32m'things:'\u001b[0m, \u001b[32m'1.'\u001b[0m, \u001b[32m'Within'\u001b[0m, \u001b[32m'30'\u001b[0m, \u001b[32m'days'\u001b[0m, \u001b[32m'of'\u001b[0m, \u001b[32m'receiving'\u001b[0m, \u001b[32m'Your'\u001b[0m, \u001b[32m'letter,'\u001b[0m, \u001b[32m'We'\u001b[0m, \u001b[32m'must'\u001b[0m, \u001b[32m'tell'\u001b[0m, \u001b[32m'You'\u001b[0m, \u001b[32m'that'\u001b[0m, \u001b[32m'We'\u001b[0m, \u001b[32m'received'\u001b[0m, \u001b[32m'Your'\u001b[0m, \u001b[32m'letter.'\u001b[0m, \u001b[32m'We'\u001b[0m, \u001b[32m'will'\u001b[0m, \u001b[32m'also'\u001b[0m, \u001b[32m'tell'\u001b[0m, \u001b[32m'You'\u001b[0m, \u001b[32m'if'\u001b[0m, \u001b[32m'We'\u001b[0m, \u001b[32m'have'\u001b[0m, \u001b[32m'already'\u001b[0m, \u001b[32m'corrected'\u001b[0m, \u001b[32m'the'\u001b[0m, \u001b[32m'error.'\u001b[0m, \u001b[32m'2.'\u001b[0m, \u001b[32m'Within'\u001b[0m, \u001b[32m'90'\u001b[0m, \u001b[32m'days'\u001b[0m, \u001b[32m'of'\u001b[0m, \u001b[32m'receiving'\u001b[0m, \u001b[32m'Your'\u001b[0m, \u001b[32m'letter,'\u001b[0m, \u001b[32m'We'\u001b[0m, \u001b[32m'must'\u001b[0m, \u001b[32m'either'\u001b[0m, \u001b[32m'correct'\u001b[0m, \u001b[32m'the'\u001b[0m, \u001b[32m'error'\u001b[0m, \u001b[32m'or'\u001b[0m, \u001b[32m'explain'\u001b[0m, \u001b[32m'to'\u001b[0m, \u001b[32m'You'\u001b[0m, \u001b[32m'why'\u001b[0m, \u001b[32m'We'\u001b[0m, \u001b[32m'believe'\u001b[0m, \u001b[32m'the'\u001b[0m, \u001b[32m'bill'\u001b[0m, \u001b[32m'is'\u001b[0m, \u001b[32m'correct.'\u001b[0m, \u001b[32m'While'\u001b[0m, \u001b[32m'We'\u001b[0m, \u001b[32m'investigate'\u001b[0m, \u001b[32m'whether'\u001b[0m, \u001b[32m'or'\u001b[0m, \u001b[32m'not'\u001b[0m, \u001b[32m'there'\u001b[0m, \u001b[32m'has'\u001b[0m, \u001b[32m'been'\u001b[0m, \u001b[32m'an'\u001b[0m, \u001b[32m'error:'\u001b[0m, \u001b[32m'-'\u001b[0m, \u001b[32m'We'\u001b[0m, \u001b[32m'cannot'\u001b[0m, \u001b[32m'try'\u001b[0m, \u001b[32m'to'\u001b[0m, \u001b[32m'collect'\u001b[0m, \u001b[32m'the'\u001b[0m, \u001b[32m'amount'\u001b[0m, \u001b[32m'in'\u001b[0m, \u001b[32m'question,'\u001b[0m, \u001b[32m'or'\u001b[0m, \u001b[32m'report'\u001b[0m, \u001b[32m'You'\u001b[0m, \u001b[32m'as'\u001b[0m, \u001b[32m'delinquent'\u001b[0m, \u001b[32m'on'\u001b[0m, \u001b[32m'that'\u001b[0m, \u001b[32m'amount.'\u001b[0m, \u001b[32m'-'\u001b[0m, \u001b[32m'The'\u001b[0m, \u001b[32m'charge'\u001b[0m, \u001b[32m'in'\u001b[0m, \u001b[32m'question'\u001b[0m, \u001b[32m'may'\u001b[0m, \u001b[32m'remain'\u001b[0m, \u001b[32m'on'\u001b[0m, \u001b[32m'Your'\u001b[0m, \u001b[32m'statement,'\u001b[0m, \u001b[32m'and'\u001b[0m, \u001b[32m'We'\u001b[0m, \u001b[32m'may'\u001b[0m, \u001b[32m'continue'\u001b[0m, \u001b[32m'to'\u001b[0m, \u001b[32m'charge'\u001b[0m, \u001b[32m'You'\u001b[0m, \u001b[32m'interest'\u001b[0m, \u001b[32m'on'\u001b[0m, \u001b[32m'that'\u001b[0m, \u001b[32m'amount.'\u001b[0m, \u001b[32m'-'\u001b[0m, \u001b[32m'While'\u001b[0m, \u001b[32m'You'\u001b[0m, \u001b[32m'do'\u001b[0m, \u001b[32m'not'\u001b[0m, \u001b[32m'have'\u001b[0m, \u001b[32m'to'\u001b[0m, \u001b[32m'pay'\u001b[0m, \u001b[32m'the'\u001b[0m, \u001b[32m'amount'\u001b[0m, \u001b[32m'in'\u001b[0m, \u001b[32m'question,'\u001b[0m, \u001b[32m'You'\u001b[0m, \u001b[32m'are'\u001b[0m, \u001b[32m'responsible'\u001b[0m, \u001b[32m'for'\u001b[0m, \u001b[32m'the'\u001b[0m, \u001b[32m'remainder'\u001b[0m, \u001b[32m'of'\u001b[0m, \u001b[32m'Your'\u001b[0m, \u001b[32m'balance.'\u001b[0m, \u001b[32m'-'\u001b[0m, \u001b[32m'We'\u001b[0m, \u001b[32m'can'\u001b[0m, \u001b[32m'apply'\u001b[0m, \u001b[32m'any'\u001b[0m, \u001b[32m'unpaid'\u001b[0m, \u001b[32m'amount'\u001b[0m, \u001b[32m'against'\u001b[0m, \u001b[32m'Your'\u001b[0m, \u001b[32m'credit'\u001b[0m, \u001b[32m'limit.'\u001b[0m, \u001b[32m'After'\u001b[0m, \u001b[32m'We'\u001b[0m, \u001b[32m'finish'\u001b[0m, \u001b[32m'Our'\u001b[0m, \u001b[32m'investigation,'\u001b[0m, \u001b[32m'one'\u001b[0m, \u001b[32m'of'\u001b[0m, \u001b[32m'two'\u001b[0m, \u001b[32m'things'\u001b[0m, \u001b[32m'will'\u001b[0m, \u001b[32m'happen:'\u001b[0m, \u001b[32m'-'\u001b[0m, \u001b[32m'If'\u001b[0m, \u001b[32m'We'\u001b[0m, \u001b[32m'made'\u001b[0m, \u001b[32m'a'\u001b[0m, \u001b[32m'mistake:'\u001b[0m, \u001b[32m'You'\u001b[0m, \u001b[32m'will'\u001b[0m, \u001b[32m'not'\u001b[0m, \u001b[32m'have'\u001b[0m, \u001b[32m'to'\u001b[0m, \u001b[32m'pay'\u001b[0m, \u001b[32m'the'\u001b[0m, \u001b[32m'amount'\u001b[0m, \u001b[32m'in'\u001b[0m, \u001b[32m'question'\u001b[0m, \u001b[32m'or'\u001b[0m, \u001b[32m'any'\u001b[0m, \u001b[32m'interest'\u001b[0m, \u001b[32m'or'\u001b[0m, \u001b[32m'other'\u001b[0m, \u001b[32m'fees'\u001b[0m, \u001b[32m'related'\u001b[0m, \u001b[32m'to'\u001b[0m, \u001b[32m'that'\u001b[0m, \u001b[32m'amount.'\u001b[0m, \u001b[32m'-'\u001b[0m, \u001b[32m'If'\u001b[0m, \u001b[32m'We'\u001b[0m, \u001b[32m'do'\u001b[0m, \u001b[32m'not'\u001b[0m, \u001b[32m'believe'\u001b[0m, \u001b[32m'there'\u001b[0m, \u001b[32m'was'\u001b[0m, \u001b[32m'a'\u001b[0m, \u001b[32m'mistake:'\u001b[0m, \u001b[32m'You'\u001b[0m, \u001b[32m'will'\u001b[0m, \u001b[32m'have'\u001b[0m, \u001b[32m'to'\u001b[0m, \u001b[32m'pay'\u001b[0m, \u001b[32m'the'\u001b[0m, \u001b[32m'amount'\u001b[0m, \u001b[32m'in'\u001b[0m, \u001b[32m'question,'\u001b[0m, \u001b[32m'along'\u001b[0m, \u001b[32m'with'\u001b[0m, \u001b[32m'applicable'\u001b[0m, \u001b[32m'interest'\u001b[0m, \u001b[32m'and'\u001b[0m, \u001b[32m'fees.'\u001b[0m, \u001b[32m'We'\u001b[0m, \u001b[32m'will'\u001b[0m, \u001b[32m'send'\u001b[0m, \u001b[32m'You'\u001b[0m, \u001b[32m'a'\u001b[0m, \u001b[32m'statement'\u001b[0m, \u001b[32m'of'\u001b[0m, \u001b[32m'the'\u001b[0m, \u001b[32m'amount'\u001b[0m, \u001b[32m'You'\u001b[0m, \u001b[32m'owe'\u001b[0m, \u001b[32m'and'\u001b[0m, \u001b[32m'the'\u001b[0m, \u001b[32m'date'\u001b[0m, \u001b[32m'payment'\u001b[0m, \u001b[32m'is'\u001b[0m, \u001b[32m'due.'\u001b[0m, \u001b[32m'We'\u001b[0m, \u001b[32m'may'\u001b[0m, \u001b[32m'then'\u001b[0m, \u001b[32m'report'\u001b[0m, \u001b[32m'You'\u001b[0m, \u001b[32m'as'\u001b[0m, \u001b[32m'delinquent'\u001b[0m, \u001b[32m'if'\u001b[0m, \u001b[32m'You'\u001b[0m, \u001b[32m'do'\u001b[0m, \u001b[32m'not'\u001b[0m, \u001b[32m'pay'\u001b[0m, \u001b[32m'the'\u001b[0m, \u001b[32m'amount'\u001b[0m, \u001b[32m'We'\u001b[0m, \u001b[32m'think'\u001b[0m, \u001b[32m'You'\u001b[0m, \u001b[32m'owe.'\u001b[0m, \u001b[32m'If'\u001b[0m, \u001b[32m'You'\u001b[0m, \u001b[32m'receive'\u001b[0m, \u001b[32m'Our'\u001b[0m, \u001b[32m'explanation'\u001b[0m, \u001b[32m'but'\u001b[0m, \u001b[32m'still'\u001b[0m, \u001b[32m'believe'\u001b[0m, \u001b[32m'Your'\u001b[0m, \u001b[32m'bill'\u001b[0m, \u001b[32m'is'\u001b[0m, \u001b[32m'wrong,'\u001b[0m, \u001b[32m'You'\u001b[0m, \u001b[32m'must'\u001b[0m, \u001b[32m'write'\u001b[0m, \u001b[32m'to'\u001b[0m, \u001b[32m'Us'\u001b[0m, \u001b[32m'within'\u001b[0m, \u001b[32m'10'\u001b[0m, \u001b[32m'days'\u001b[0m, \u001b[32m'telling'\u001b[0m, \u001b[32m'Us'\u001b[0m, \u001b[32m'that'\u001b[0m, \u001b[32m'You'\u001b[0m, \u001b[32m'still'\u001b[0m, \u001b[32m'refuse'\u001b[0m, \u001b[32m'to'\u001b[0m, \u001b[32m'pay.'\u001b[0m, \u001b[32m'If'\u001b[0m, \u001b[32m'You'\u001b[0m, \u001b[32m'do'\u001b[0m, \u001b[32m'so,'\u001b[0m, \u001b[32m'We'\u001b[0m, \u001b[32m'cannot'\u001b[0m, \u001b[32m'report'\u001b[0m, \u001b[32m'You'\u001b[0m, \u001b[32m'as'\u001b[0m, \u001b[32m'delinquent'\u001b[0m, \u001b[32m'without'\u001b[0m, \u001b[32m'also'\u001b[0m, \u001b[32m'reporting'\u001b[0m, \u001b[32m'that'\u001b[0m, \u001b[32m'You'\u001b[0m, \u001b[32m'are'\u001b[0m, \u001b[32m'questioning'\u001b[0m, \u001b[32m'Your'\u001b[0m, \u001b[32m'bill.'\u001b[0m, \u001b[32m'We'\u001b[0m, \u001b[32m'must'\u001b[0m, \u001b[32m'tell'\u001b[0m, \u001b[32m'You'\u001b[0m, \u001b[32m'the'\u001b[0m, \u001b[32m'name'\u001b[0m, \u001b[32m'of'\u001b[0m, \u001b[32m'anyone'\u001b[0m, \u001b[32m'to'\u001b[0m, \u001b[32m'whom'\u001b[0m, \u001b[32m'We'\u001b[0m, \u001b[32m'reported'\u001b[0m, \u001b[32m'You'\u001b[0m, \u001b[32m'as'\u001b[0m, \u001b[32m'delinquent,'\u001b[0m, \u001b[32m'and'\u001b[0m, \u001b[32m'We'\u001b[0m, \u001b[32m'must'\u001b[0m, \u001b[32m'let'\u001b[0m, \u001b[32m'those'\u001b[0m, \u001b[32m'organizations'\u001b[0m, \u001b[32m'know'\u001b[0m, \u001b[32m'when'\u001b[0m, \u001b[32m'the'\u001b[0m, \u001b[32m'matter'\u001b[0m, \u001b[32m'has'\u001b[0m, \u001b[32m'been'\u001b[0m, \u001b[32m'settled'\u001b[0m, \u001b[32m'between'\u001b[0m, \u001b[32m'Us.'\u001b[0m, \u001b[32m'If'\u001b[0m, \u001b[32m'We'\u001b[0m, \u001b[32m'do'\u001b[0m, \u001b[32m'not'\u001b[0m, \u001b[32m'follow'\u001b[0m, \u001b[32m'all'\u001b[0m, \u001b[32m'of'\u001b[0m, \u001b[32m'the'\u001b[0m, \u001b[32m'rules'\u001b[0m, \u001b[32m'above,'\u001b[0m, \u001b[32m'You'\u001b[0m, \u001b[32m'do'\u001b[0m, \u001b[32m'not'\u001b[0m, \u001b[32m'have'\u001b[0m, \u001b[32m'to'\u001b[0m, \u001b[32m'pay'\u001b[0m, \u001b[32m'the'\u001b[0m, \u001b[32m'first'\u001b[0m, \u001b[32m'$50'\u001b[0m, \u001b[32m'of'\u001b[0m, \u001b[32m'the'\u001b[0m, \u001b[32m'amount'\u001b[0m, \u001b[32m'You'\u001b[0m, \u001b[32m'question'\u001b[0m, \u001b[32m'even'\u001b[0m, \u001b[32m'if'\u001b[0m, \u001b[32m'Your'\u001b[0m, \u001b[32m'bill'\u001b[0m, \u001b[32m'is'\u001b[0m, \u001b[32m'correct.'\u001b[0m, \u001b[32m'Your'\u001b[0m, \u001b[32m'Rights'\u001b[0m, \u001b[32m'if'\u001b[0m, \u001b[32m'You'\u001b[0m, \u001b[32m'Are'\u001b[0m, \u001b[32m'Dissatisfied'\u001b[0m, \u001b[32m'With'\u001b[0m, \u001b[32m'Your'\u001b[0m, \u001b[32m'Credit'\u001b[0m, \u001b[32m'Card'\u001b[0m, \u001b[32m'Purchases'\u001b[0m, \u001b[32m'If'\u001b[0m, \u001b[32m'You'\u001b[0m, \u001b[32m'are'\u001b[0m, \u001b[32m'dissatisfied'\u001b[0m, \u001b[32m'with'\u001b[0m, \u001b[32m'the'\u001b[0m, \u001b[32m'goods'\u001b[0m, \u001b[32m'or'\u001b[0m, \u001b[32m'services'\u001b[0m, \u001b[32m'that'\u001b[0m, \u001b[32m'You'\u001b[0m, \u001b[32m'have'\u001b[0m, \u001b[32m'purchased'\u001b[0m, \u001b[32m'with'\u001b[0m, \u001b[32m'Your'\u001b[0m, \u001b[32m'credit'\u001b[0m, \u001b[32m'card,'\u001b[0m, \u001b[32m'and'\u001b[0m, \u001b[32m'You'\u001b[0m, \u001b[32m'have'\u001b[0m, \u001b[32m'tried'\u001b[0m, \u001b[32m'in'\u001b[0m, \u001b[32m'good'\u001b[0m, \u001b[32m'faith'\u001b[0m, \u001b[32m'to'\u001b[0m, \u001b[32m'correct'\u001b[0m, \u001b[32m'the'\u001b[0m, \u001b[32m'problem'\u001b[0m, \u001b[32m'with'\u001b[0m, \u001b[32m'the'\u001b[0m, \u001b[32m'merchant,'\u001b[0m, \u001b[32m'You'\u001b[0m, \u001b[32m'may'\u001b[0m, \u001b[32m'have'\u001b[0m, \u001b[32m'the'\u001b[0m, \u001b[32m'right'\u001b[0m, \u001b[32m'not'\u001b[0m, \u001b[32m'to'\u001b[0m, \u001b[32m'pay'\u001b[0m, \u001b[32m'the'\u001b[0m, \u001b[32m'remaining'\u001b[0m, \u001b[32m'amount'\u001b[0m, \u001b[32m'due'\u001b[0m, \u001b[32m'on'\u001b[0m, \u001b[32m'the'\u001b[0m, \u001b[32m'purchase.'\u001b[0m, \u001b[32m'To'\u001b[0m, \u001b[32m'use'\u001b[0m, \u001b[32m'this'\u001b[0m, \u001b[32m'right,'\u001b[0m, \u001b[32m'all'\u001b[0m, \u001b[32m'of'\u001b[0m, \u001b[32m'the'\u001b[0m, \u001b[32m'following'\u001b[0m, \u001b[32m'must'\u001b[0m, \u001b[32m'be'\u001b[0m, \u001b[32m'true:'\u001b[0m, \u001b[32m'1.'\u001b[0m, \u001b[32m'The'\u001b[0m, \u001b[32m'purchase'\u001b[0m, \u001b[32m'must'\u001b[0m, \u001b[32m'have'\u001b[0m, \u001b[32m'been'\u001b[0m, \u001b[32m'made'\u001b[0m, \u001b[32m'in'\u001b[0m, \u001b[32m'Your'\u001b[0m, \u001b[32m'home'\u001b[0m, \u001b[32m'state'\u001b[0m, \u001b[32m'or'\u001b[0m, \u001b[32m'within'\u001b[0m, \u001b[32m'100'\u001b[0m, \u001b[32m'miles'\u001b[0m, \u001b[32m'of'\u001b[0m, \u001b[32m'Your'\u001b[0m, \u001b[32m'current'\u001b[0m, \u001b[32m'mailing'\u001b[0m, \u001b[32m'address,'\u001b[0m, \u001b[32m'and'\u001b[0m, \u001b[32m'the'\u001b[0m, \u001b[32m'purchase'\u001b[0m, \u001b[32m'price'\u001b[0m, \u001b[32m'must'\u001b[0m, \u001b[32m'have'\u001b[0m, \u001b[32m'been'\u001b[0m, \u001b[32m'more'\u001b[0m, \u001b[32m'than'\u001b[0m, \u001b[32m'$50.'\u001b[0m, \u001b[32m'\u001b[0m\u001b[32m(\u001b[0m\u001b[32mNote:'\u001b[0m, \u001b[32m'Neither'\u001b[0m, \u001b[32m'of'\u001b[0m, \u001b[32m'these'\u001b[0m, \u001b[32m'are'\u001b[0m, \u001b[32m'necessary'\u001b[0m, \u001b[32m'if'\u001b[0m, \u001b[32m'Your'\u001b[0m, \u001b[32m'purchase'\u001b[0m, \u001b[32m'was'\u001b[0m, \u001b[32m'based'\u001b[0m, \u001b[32m'on'\u001b[0m, \u001b[32m'an'\u001b[0m, \u001b[32m'advertisement'\u001b[0m, \u001b[32m'We'\u001b[0m, \u001b[32m'mailed'\u001b[0m, \u001b[32m'to'\u001b[0m, \u001b[32m'You,'\u001b[0m, \u001b[32m'or'\u001b[0m, \u001b[32m'if'\u001b[0m, \u001b[32m'We'\u001b[0m, \u001b[32m'own'\u001b[0m, \u001b[32m'the'\u001b[0m, \u001b[32m'company'\u001b[0m, \u001b[32m'that'\u001b[0m, \u001b[32m'sold'\u001b[0m, \u001b[32m'You'\u001b[0m, \u001b[32m'the'\u001b[0m, \u001b[32m'goods'\u001b[0m, \u001b[32m'or'\u001b[0m, \u001b[32m'services.\u001b[0m\u001b[32m)\u001b[0m\u001b[32m'\u001b[0m, \u001b[32m'2.'\u001b[0m, \u001b[32m'You'\u001b[0m, \u001b[32m'must'\u001b[0m, \u001b[32m'have'\u001b[0m, \u001b[32m'used'\u001b[0m, \u001b[32m'Your'\u001b[0m, \u001b[32m'credit'\u001b[0m, \u001b[32m'card'\u001b[0m, \u001b[32m'for'\u001b[0m, \u001b[32m'the'\u001b[0m, \u001b[32m'purchase.'\u001b[0m, \u001b[32m'Purchases'\u001b[0m, \u001b[32m'made'\u001b[0m, \u001b[32m'with'\u001b[0m, \u001b[32m'cash'\u001b[0m, \u001b[32m'advances'\u001b[0m, \u001b[32m'from'\u001b[0m, \u001b[32m'an'\u001b[0m, \u001b[32m'ATM'\u001b[0m, \u001b[32m'or'\u001b[0m, \u001b[32m'with'\u001b[0m, \u001b[32m'a'\u001b[0m, \u001b[32m'check'\u001b[0m, \u001b[32m'that'\u001b[0m, \u001b[32m'accesses'\u001b[0m, \u001b[32m'Your'\u001b[0m, \u001b[32m'credit'\u001b[0m, \u001b[32m'card'\u001b[0m, \u001b[32m'Account'\u001b[0m, \u001b[32m'do'\u001b[0m, \u001b[32m'not'\u001b[0m, \u001b[32m'qualify.'\u001b[0m, \u001b[32m'3.'\u001b[0m, \u001b[32m'You'\u001b[0m, \u001b[32m'must'\u001b[0m, \u001b[32m'not'\u001b[0m, \u001b[32m'yet'\u001b[0m, \u001b[32m'have'\u001b[0m, \u001b[32m'fully'\u001b[0m, \u001b[32m'paid'\u001b[0m, \u001b[32m'for'\u001b[0m, \u001b[32m'the'\u001b[0m, \u001b[32m'purchase.'\u001b[0m, \u001b[32m'If'\u001b[0m, \u001b[32m'all'\u001b[0m, \u001b[32m'of'\u001b[0m, \u001b[32m'the'\u001b[0m, \u001b[32m'criteria'\u001b[0m, \u001b[32m'above'\u001b[0m, \u001b[32m'are'\u001b[0m, \u001b[32m'met'\u001b[0m, \u001b[32m'and'\u001b[0m, \u001b[32m'You'\u001b[0m, \u001b[32m'are'\u001b[0m, \u001b[32m'still'\u001b[0m, \u001b[32m'dissatisfied'\u001b[0m, \u001b[32m'with'\u001b[0m, \u001b[32m'the'\u001b[0m, \u001b[32m'purchase,'\u001b[0m, \u001b[32m'contact'\u001b[0m, \u001b[32m'Us'\u001b[0m, \u001b[32m'in'\u001b[0m, \u001b[32m'writing'\u001b[0m, \u001b[32m'or'\u001b[0m, \u001b[32m'electronically'\u001b[0m, \u001b[32m'at'\u001b[0m, \u001b[32m'the'\u001b[0m, \u001b[32m'address'\u001b[0m, \u001b[32m'listed'\u001b[0m, \u001b[32m'on'\u001b[0m, \u001b[32m'Your'\u001b[0m, \u001b[32m'statement.'\u001b[0m, \u001b[32m'While'\u001b[0m, \u001b[32m'We'\u001b[0m, \u001b[32m'investigate,'\u001b[0m, \u001b[32m'the'\u001b[0m, \u001b[32m'same'\u001b[0m, \u001b[32m'rules'\u001b[0m, \u001b[32m'apply'\u001b[0m, \u001b[32m'to'\u001b[0m, \u001b[32m'the'\u001b[0m, \u001b[32m'disputed'\u001b[0m, \u001b[32m'amount'\u001b[0m, \u001b[32m'as'\u001b[0m, \u001b[32m'discussed'\u001b[0m, \u001b[32m'above.'\u001b[0m, \u001b[32m'After'\u001b[0m, \u001b[32m'We'\u001b[0m, \u001b[32m'finish'\u001b[0m, \u001b[32m'Our'\u001b[0m, \u001b[32m'investigation,'\u001b[0m, \u001b[32m'We'\u001b[0m, \u001b[32m'will'\u001b[0m, \u001b[32m'tell'\u001b[0m, \u001b[32m'You'\u001b[0m, \u001b[32m'Our'\u001b[0m, \u001b[32m'decision.'\u001b[0m, \u001b[32m'At'\u001b[0m, \u001b[32m'that'\u001b[0m, \u001b[32m'point,'\u001b[0m, \u001b[32m'if'\u001b[0m, \u001b[32m'We'\u001b[0m, \u001b[32m'think'\u001b[0m, \u001b[32m'You'\u001b[0m, \u001b[32m'owe'\u001b[0m, \u001b[32m'an'\u001b[0m, \u001b[32m'amount'\u001b[0m, \u001b[32m'and'\u001b[0m, \u001b[32m'You'\u001b[0m, \u001b[32m'do'\u001b[0m, \u001b[32m'not'\u001b[0m, \u001b[32m'pay,'\u001b[0m, \u001b[32m'We'\u001b[0m, \u001b[32m'may'\u001b[0m, \u001b[32m'report'\u001b[0m, \u001b[32m'You'\u001b[0m, \u001b[32m'as'\u001b[0m, \u001b[32m'delinquent.'\u001b[0m, \u001b[32m'Page'\u001b[0m, \u001b[32m'6'\u001b[0m, \u001b[32m'of'\u001b[0m, \u001b[32m'6'\u001b[0m, \u001b[32m'04223935-MXC30-P-1-111417'\u001b[0m, \u001b[32m'\u001b[0m\u001b[32m(\u001b[0m\u001b[32mMXC303-E\u001b[0m\u001b[32m)\u001b[0m\u001b[32m'\u001b[0m\u001b[1m]\u001b[0m\n",
      "\n",
      "\u001b[1m[\u001b[0m\u001b[1m[\u001b[0m\u001b[1;36m283.90267491\u001b[0m  \u001b[1;36m51.79484561\u001b[0m \u001b[1;36m321.65779173\u001b[0m  \u001b[1;36m62.10736558\u001b[0m\u001b[1m]\u001b[0m\n",
      " \u001b[1m[\u001b[0m\u001b[1;36m326.23812556\u001b[0m  \u001b[1;36m51.71232671\u001b[0m \u001b[1;36m375.36202744\u001b[0m  \u001b[1;36m64.6326961\u001b[0m \u001b[1m]\u001b[0m\n",
      " \u001b[1m[\u001b[0m\u001b[1;36m380.77133894\u001b[0m  \u001b[1;36m51.64111406\u001b[0m \u001b[1;36m435.57006121\u001b[0m  \u001b[1;36m64.67173342\u001b[0m\u001b[1m]\u001b[0m\n",
      " \u001b[33m...\u001b[0m\n",
      " \u001b[1m[\u001b[0m\u001b[1;36m520.64520121\u001b[0m \u001b[1;36m948.19569588\u001b[0m \u001b[1;36m526.84229705\u001b[0m \u001b[1;36m955.11911716\u001b[0m\u001b[1m]\u001b[0m\n",
      " \u001b[1m[\u001b[0m\u001b[1;36m768.81754398\u001b[0m \u001b[1;36m958.62436295\u001b[0m \u001b[1;36m889.91155475\u001b[0m \u001b[1;36m965.97169386\u001b[0m\u001b[1m]\u001b[0m\n",
      " \u001b[1m[\u001b[0m\u001b[1;36m892.100811\u001b[0m   \u001b[1;36m958.52726698\u001b[0m \u001b[1;36m940.21958113\u001b[0m \u001b[1;36m967.04875119\u001b[0m\u001b[1m]\u001b[0m\u001b[1m]\u001b[0m\n",
      "\n",
      "\u001b[1m[\u001b[0m\u001b[1m[\u001b[0m\u001b[1;36m740.46134949\u001b[0m \u001b[1;36m583.54538679\u001b[0m \u001b[1;36m758.92093033\u001b[0m \u001b[1;36m593.72124914\u001b[0m\u001b[1m]\u001b[0m\n",
      " \u001b[1m[\u001b[0m\u001b[1;36m763.59397173\u001b[0m \u001b[1;36m583.63699913\u001b[0m \u001b[1;36m800.96849799\u001b[0m \u001b[1;36m596.21325228\u001b[0m\u001b[1m]\u001b[0m\n",
      " \u001b[1m[\u001b[0m\u001b[1;36m805.32222986\u001b[0m \u001b[1;36m583.48500729\u001b[0m \u001b[1;36m848.88658673\u001b[0m \u001b[1;36m596.32155485\u001b[0m\u001b[1m]\u001b[0m\n",
      " \u001b[33m...\u001b[0m\n",
      " \u001b[1m[\u001b[0m\u001b[1;36m520.64520121\u001b[0m \u001b[1;36m948.19569588\u001b[0m \u001b[1;36m526.84229705\u001b[0m \u001b[1;36m955.11911716\u001b[0m\u001b[1m]\u001b[0m\n",
      " \u001b[1m[\u001b[0m\u001b[1;36m768.81754398\u001b[0m \u001b[1;36m958.62436295\u001b[0m \u001b[1;36m889.91155475\u001b[0m \u001b[1;36m965.97169386\u001b[0m\u001b[1m]\u001b[0m\n",
      " \u001b[1m[\u001b[0m\u001b[1;36m892.100811\u001b[0m   \u001b[1;36m958.52726698\u001b[0m \u001b[1;36m940.21958113\u001b[0m \u001b[1;36m967.04875119\u001b[0m\u001b[1m]\u001b[0m\u001b[1m]\u001b[0m\n",
      "\u001b[1;36m510\u001b[0m\n",
      "\u001b[1m(\u001b[0m\u001b[1;36m800\u001b[0m, \u001b[1;36m4\u001b[0m\u001b[1m)\u001b[0m\n",
      "\u001b[1;36m800\u001b[0m\n"
     ]
    }
   ],
   "source": [
    "rprint(\"Let's start inspecting the temporary variables :eyes:\")\n",
    "print(word_texts, word_boxes, ds_mlm.example_index[-1].word_boxes_normalized, sep='\\n\\n')\n",
    "display(\n",
    "    ds_mlm.max_content_seq_len,\n",
    "    word_boxes.shape,\n",
    "    len(word_texts),\n",
    ")"
   ]
  },
  {
   "cell_type": "code",
   "execution_count": null,
   "id": "29bab0a6-6859-4f01-9670-77fdf0cb1911",
   "metadata": {},
   "outputs": [],
   "source": []
  }
 ],
 "metadata": {
  "kernelspec": {
   "display_name": "Environment (virtualenv_layoutlm-p39)",
   "language": "python",
   "name": "virtualenv_layoutlm-p39"
  },
  "language_info": {
   "codemirror_mode": {
    "name": "ipython",
    "version": 3
   },
   "file_extension": ".py",
   "mimetype": "text/x-python",
   "name": "python",
   "nbconvert_exporter": "python",
   "pygments_lexer": "ipython3",
   "version": "3.9.7"
  }
 },
 "nbformat": 4,
 "nbformat_minor": 5
}
